{
 "cells": [
  {
   "cell_type": "markdown",
   "metadata": {},
   "source": [
    "\"\"\"<br>\n",
    "@Author:Vijay Kumar M N<br>\n",
    "@Date: 2024-09-02<br>\n",
    "@Last Modified by: Vijay Kumar M N<br>\n",
    "@Last Modified: 2024-09-02<br>\n",
    "@Title : python program for seaborn bulit-in functions.<br>\n",
    "\"\"\""
   ]
  },
  {
   "cell_type": "code",
   "execution_count": 5,
   "metadata": {},
   "outputs": [],
   "source": [
    "import seaborn as sns\n",
    "\n",
    "import matplotlib.pyplot as plt"
   ]
  },
  {
   "cell_type": "markdown",
   "metadata": {},
   "source": [
    "1. Write a program to draw bar plot of sex against survived for a dataset given in the url"
   ]
  },
  {
   "cell_type": "code",
   "execution_count": 6,
   "metadata": {},
   "outputs": [
    {
     "name": "stdout",
     "output_type": "stream",
     "text": [
      "sex\n",
      "female    233\n",
      "male      109\n",
      "Name: survived, dtype: int64\n"
     ]
    },
    {
     "data": {
      "image/png": "[encoded data removed]",
      "text/plain": [
       "<Figure size 640x480 with 1 Axes>"
      ]
     },
     "metadata": {},
     "output_type": "display_data"
    }
   ],
   "source": [
    "def bar_plot(df):\n",
    "    \"\"\"\n",
    "    Description:\n",
    "        Plots a bar chart showing the survival rate of passengers on the Titanic based on gender.\n",
    "\n",
    "    Parameters:\n",
    "        df (DataFrame): A pandas DataFrame containing Titanic dataset information, including 'sex' and 'survived' columns.\n",
    "\n",
    "    Returns:\n",
    "        None: This function does not return any value. It displays a bar plot and prints the total number of survivors grouped by gender.\n",
    "\n",
    "   \n",
    "    \"\"\"\n",
    "    sns.barplot(x=\"sex\", y=\"survived\", data=df,hue='sex',palette = {'male':\"#ff9999\", 'female':\"#66b3ff\"})\n",
    "    print(df.groupby('sex')['survived'].sum())\n",
    "    plt.show()\n",
    "\n",
    "def main():\n",
    "    df=sns.load_dataset('titanic')\n",
    "    \n",
    "    bar_plot(df)\n",
    "if __name__==\"__main__\":\n",
    "    main()\n"
   ]
  }
 ],
 "metadata": {
  "kernelspec": {
   "display_name": "Python 3.12.3 64-bit",
   "language": "python",
   "name": "python3"
  },
  "language_info": {
   "codemirror_mode": {
    "name": "ipython",
    "version": 3
   },
   "file_extension": ".py",
   "mimetype": "text/x-python",
   "name": "python",
   "nbconvert_exporter": "python",
   "pygments_lexer": "ipython3",
   "version": "3.12.3"
  },
  "orig_nbformat": 4,
  "vscode": {
   "interpreter": {
    "hash": "3fcbd7240ee8f908d933dc7f71e8c42a1a91163b70ede8dcff5146d4087436c7"
   }
  }
 },
 "nbformat": 4,
 "nbformat_minor": 2
}
