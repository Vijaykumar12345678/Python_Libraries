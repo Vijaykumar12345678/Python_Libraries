{
 "cells": [
  {
   "cell_type": "markdown",
   "metadata": {},
   "source": [
    "\"\"\"<br>\n",
    "@Author:Vijay Kumar M N<br>\n",
    "@Date: 2024-08-20<br>\n",
    "@Last Modified by: Vijay Kumar M N<br>\n",
    "@Last Modified: 2024-08-20<br>\n",
    "@Title : python program for Numpy  build-in functions.<br>\n",
    "\"\"\""
   ]
  },
  {
   "cell_type": "code",
   "execution_count": 1,
   "metadata": {},
   "outputs": [],
   "source": [
    "import numpy as np"
   ]
  },
  {
   "cell_type": "markdown",
   "metadata": {},
   "source": [
    "1. Write a Python program to convert a list of numeric value into a one-dimensional<br>\n",
    "NumPy array.<br>"
   ]
  },
  {
   "cell_type": "code",
   "execution_count": 2,
   "metadata": {},
   "outputs": [
    {
     "name": "stdout",
     "output_type": "stream",
     "text": [
      "[ 12.23  13.32 100.    36.32]\n"
     ]
    }
   ],
   "source": [
    "def main():\n",
    "    \"\"\"\n",
    "    Description:\n",
    "        This is function is used to convert list into one-dimensional Numpy array\n",
    "    Parameters:\n",
    "        None\n",
    "    returns:\n",
    "        None\"\"\"\n",
    "    original_list=[12.23, 13.32,100,36.32]\n",
    "    result=np.array(original_list)\n",
    "    print(result)\n",
    "if __name__==\"__main__\":\n",
    "    main()\n",
    "\n"
   ]
  },
  {
   "cell_type": "markdown",
   "metadata": {},
   "source": [
    "2.Create a 3x3 matrix with values ranging from 2 to 10.<br>\n"
   ]
  },
  {
   "cell_type": "code",
   "execution_count": 3,
   "metadata": {},
   "outputs": [
    {
     "name": "stdout",
     "output_type": "stream",
     "text": [
      "[[ 2  3  4]\n",
      " [ 5  6  7]\n",
      " [ 8  9 10]]\n"
     ]
    }
   ],
   "source": [
    "def matrix(array):\n",
    "    \"\"\"\n",
    "    Description:\n",
    "        This Function is used to convert the 3x3 matrix\n",
    "    \n",
    "    Parameters:\n",
    "        array : ndarray which having the numbers from 2 to 10\n",
    "    \n",
    "    returns:\n",
    "        new_array: ndarray which will return the 3x3 matrix\n",
    "    \"\"\"\n",
    "    new_array=array.reshape(3,3)\n",
    "    return new_array\n",
    "def main():\n",
    "    #creating a 1d array by using the arange function.\n",
    "    numbers=np.arange(2,11)\n",
    "    result=matrix(numbers)\n",
    "    print(result)\n",
    "if __name__==\"__main__\":\n",
    "    main()\n"
   ]
  },
  {
   "cell_type": "markdown",
   "metadata": {},
   "source": [
    "3. Write a Python program to create a null vector of size 10 and update sixth value to 11.<br>\n"
   ]
  },
  {
   "cell_type": "code",
   "execution_count": 4,
   "metadata": {},
   "outputs": [
    {
     "name": "stdout",
     "output_type": "stream",
     "text": [
      "[ 0.  0.  0.  0.  0.  0. 11.  0.  0.  0.]\n"
     ]
    }
   ],
   "source": [
    "def replace_vector(array):\n",
    "    \n",
    "    \"\"\"\n",
    "    Description:\n",
    "        This function will replace the sixth index with 11\n",
    "    \n",
    "    parameters:\n",
    "        array: ndarray which consists of elements of zeros\n",
    "    \n",
    "    return:\n",
    "        array\"\"\"\n",
    "    \n",
    "    array[6]=11\n",
    "    return array\n",
    "def main():\n",
    "    #zeros function will generate the array of zeros\n",
    "    array=np.zeros(10)\n",
    "    \n",
    "    result=replace_vector(array)\n",
    "    print(result)\n",
    "if __name__==\"__main__\":\n",
    "    main()"
   ]
  },
  {
   "cell_type": "markdown",
   "metadata": {},
   "source": [
    "4. Write a Python program to reverse an array (first element becomes last).<br>\n"
   ]
  },
  {
   "cell_type": "code",
   "execution_count": 5,
   "metadata": {},
   "outputs": [
    {
     "name": "stdout",
     "output_type": "stream",
     "text": [
      "original list : [12 13 14 15 16 17 18 19 20 21 22 23 24 25 26 27 28 29 30 31 32 33 34 35\n",
      " 36 37]\n",
      "reversed list : [37 36 35 34 33 32 31 30 29 28 27 26 25 24 23 22 21 20 19 18 17 16 15 14\n",
      " 13 12]\n"
     ]
    }
   ],
   "source": [
    "def reversed_array(array):\n",
    "    \"\"\"\"\n",
    "    Description:\n",
    "        This function will reverse the array\n",
    "    \n",
    "    parameters:\n",
    "        array:ndarray the data\n",
    "        \n",
    "    \n",
    "    Returns:\n",
    "        array:ndarray\"\"\"\n",
    "    return np.flip(array)\n",
    "def main():\n",
    "    original_list=np.array([12, 13 ,14, 15, 16, 17, 18, 19, 20, 21, 22, 23, 24, 25, 26, 27, 28, 29, 30, 31, 32, 33, 34 ,35 ,36, 37])\n",
    "    new_list=reversed_array(original_list)\n",
    "    print(f\"original list : {original_list}\")\n",
    "    print(f\"reversed list : {new_list}\")\n",
    "if __name__==\"__main__\":\n",
    "    main()"
   ]
  },
  {
   "cell_type": "markdown",
   "metadata": {},
   "source": [
    "5. Write a Python program to create a 2d array with 1 on the border and 0 inside.<br>"
   ]
  },
  {
   "cell_type": "code",
   "execution_count": 6,
   "metadata": {},
   "outputs": [
    {
     "name": "stdout",
     "output_type": "stream",
     "text": [
      "[[1. 1. 1. 1. 1.]\n",
      " [1. 0. 0. 0. 1.]\n",
      " [1. 0. 0. 0. 1.]\n",
      " [1. 0. 0. 0. 1.]\n",
      " [1. 1. 1. 1. 1.]]\n"
     ]
    }
   ],
   "source": [
    "def create_matrix(matrix):\n",
    "    \"\"\"\n",
    "    Description:\n",
    "        This function will replace the 1 on the border and 0 on the inside\n",
    "    \n",
    "    Parameters:\n",
    "        matrix:ndarray the data\n",
    "    \n",
    "    Returns:\n",
    "        new_matrix: array\"\"\"\n",
    "    \n",
    "    new_matrix=matrix.reshape(5,5)\n",
    "\n",
    "    new_matrix[0,:]=1\n",
    "    new_matrix[-1,:]=1\n",
    "    new_matrix[:,0]=1\n",
    "    new_matrix[:,-1]=1\n",
    "    return new_matrix\n",
    "def main():\n",
    "    matrix=np.zeros(25)\n",
    "    result=create_matrix(matrix)\n",
    "    print(result)\n",
    "if __name__==\"__main__\":\n",
    "    main()"
   ]
  },
  {
   "cell_type": "markdown",
   "metadata": {},
   "source": [
    "6. Write a Python program to add a border (filled with 0's) around an existing array.<br>"
   ]
  },
  {
   "cell_type": "code",
   "execution_count": 7,
   "metadata": {},
   "outputs": [
    {
     "name": "stdout",
     "output_type": "stream",
     "text": [
      "Original array:\n",
      " [[1. 1. 1.]\n",
      " [1. 1. 1.]\n",
      " [1. 1. 1.]]\n",
      "new array :\n",
      " [[0 0 0 0 0]\n",
      " [0 1 1 1 0]\n",
      " [0 1 1 1 0]\n",
      " [0 1 1 1 0]\n",
      " [0 0 0 0 0]]\n"
     ]
    }
   ],
   "source": [
    "def create_matrix(array):\n",
    "    \"\"\"\n",
    "    Description:\n",
    "        This function will add extra 2 rows and 2 columns with zeros and replace the center part with array\n",
    "    \n",
    "    Parameters:\n",
    "        array:ndarray The data\n",
    "    \n",
    "    Returns:\n",
    "        new_array:ndarray\"\"\"\n",
    "    rows,colums=array.shape\n",
    "    new_array=np.zeros((rows+2,colums+2),dtype=int)\n",
    "    new_array[1:-1,1:-1]=array\n",
    "    return new_array\n",
    "    \n",
    "def main():\n",
    "    array=np.array([[1,1,1],[1,1,1],[1,1,1]],dtype=float)\n",
    "    print(f\"Original array:\\n {array}\")\n",
    "    result=create_matrix(array)\n",
    "    print(f\"new array :\\n {result}\")\n",
    "if __name__==\"__main__\":\n",
    "    main()"
   ]
  },
  {
   "cell_type": "markdown",
   "metadata": {},
   "source": [
    "7. Write a Python program to create a 8x8 matrix and fill it with a checkerboard pattern.<br>\n"
   ]
  },
  {
   "cell_type": "code",
   "execution_count": 8,
   "metadata": {},
   "outputs": [
    {
     "name": "stdout",
     "output_type": "stream",
     "text": [
      "[[0 1 0 1 0 1 0 1]\n",
      " [1 0 1 0 1 0 1 0]\n",
      " [0 1 0 1 0 1 0 1]\n",
      " [1 0 1 0 1 0 1 0]\n",
      " [0 1 0 1 0 1 0 1]\n",
      " [1 0 1 0 1 0 1 0]\n",
      " [0 1 0 1 0 1 0 1]\n",
      " [1 0 1 0 1 0 1 0]]\n"
     ]
    }
   ],
   "source": [
    "def create_checkboard(rows,columns):\n",
    "    \"\"\"\n",
    "    Description:\n",
    "        This function will create a 8x8 matrix and print the 0`s and 1`s alternatively\n",
    "    \n",
    "    Parameters:\n",
    "        rows: int number of rows in a matrix\n",
    "        colums:int number of columns in a matrix \n",
    "    returns:\n",
    "        checkboard:ndarray\"\"\"\n",
    "    \n",
    "    checkboard=np.zeros((rows,columns),dtype=int)\n",
    "    checkboard[0::2,1::2]=1\n",
    "    checkboard[1::2,::2]=1\n",
    "    return checkboard\n",
    "    \n",
    "def main():\n",
    "    rows=8\n",
    "    columns=8\n",
    "\n",
    "    result=create_checkboard(rows,columns)\n",
    "    print(result)\n",
    "if __name__==\"__main__\":\n",
    "    main()"
   ]
  },
  {
   "cell_type": "markdown",
   "metadata": {},
   "source": [
    "8. Write a Python program to convert a list and tuple into arrays.<br>\n"
   ]
  },
  {
   "cell_type": "code",
   "execution_count": 9,
   "metadata": {},
   "outputs": [
    {
     "name": "stdout",
     "output_type": "stream",
     "text": [
      "tuple to array: \n",
      " [[7 8 9]\n",
      " [1 2 3]]\n",
      "list to array: \n",
      " [[1 2 3]\n",
      " [4 5 6]]\n"
     ]
    }
   ],
   "source": [
    "def convert_list_tuple(list_elements,tuple_elements):\n",
    "    \"\"\"\n",
    "    Description:\n",
    "        This function is used to convert list and tuple to array\n",
    "     \n",
    "    Parameters:\n",
    "        list_elements: list The data\n",
    "        tuple_elements: tuple the data\n",
    "    \n",
    "    Returns:\n",
    "        list_array: ndarray after converting to numpy array\n",
    "        tuple_array: ndarray after convertunf to numpy array\n",
    "     \"\"\"\n",
    "    list_array=np.array(list_elements)\n",
    "    tuple_array=np.array(tuple_elements)\n",
    "    return  list_array,tuple_array\n",
    "\n",
    "def main():\n",
    "    list_elements = [1, 2, 3, 4, 5,6]\n",
    "    tuple_elements=(7,8,9,1,2,3)\n",
    "    result,result1=convert_list_tuple(list_elements,tuple_elements)\n",
    "    print(f\"tuple to array: \\n { result1.reshape(2,3)}\")\n",
    "    print(f\"list to array: \\n { result.reshape(2,3)}\")\n",
    "if __name__==\"__main__\":\n",
    "    main()"
   ]
  },
  {
   "cell_type": "markdown",
   "metadata": {},
   "source": [
    "9. Write a Python program to append values to the end of an array.<br>\n"
   ]
  },
  {
   "cell_type": "code",
   "execution_count": 10,
   "metadata": {},
   "outputs": [
    {
     "name": "stdout",
     "output_type": "stream",
     "text": [
      "Original array: [1 2 3]\n",
      "new array:[1 2 3 5]\n"
     ]
    }
   ],
   "source": [
    "def append_elements(array):\n",
    "    \"\"\"\"\n",
    "    Description:\n",
    "        This function will append the two lists\n",
    "    \n",
    "    parameter:\n",
    "        array:ndarray The original array\n",
    "    \n",
    "    returns:\n",
    "        add_elements:ndarray the new array after appending\"\"\"\n",
    "    \n",
    "    add_elements=[int(number) for number in input(\"Enter the number to add to a array :\").split(\",\")]\n",
    "    add_elements=np.append(array,add_elements)\n",
    "    return add_elements\n",
    "def main():\n",
    "    array=np.array([1,2,3])\n",
    "    print(f\"Original array: {array}\")\n",
    "    result=append_elements(array)\n",
    "    print(f\"new array:{result}\")\n",
    "if __name__==\"__main__\":\n",
    "    main()\n"
   ]
  },
  {
   "cell_type": "markdown",
   "metadata": {},
   "source": [
    "10. Write a Python program to find the real and imaginary parts of an array of complex<br>\n",
    "numbers.<br>"
   ]
  },
  {
   "cell_type": "code",
   "execution_count": 11,
   "metadata": {},
   "outputs": [
    {
     "name": "stdout",
     "output_type": "stream",
     "text": [
      "Real part: [1.         0.70710678]\n",
      "Imaginary part:[0.         0.70710678]\n"
     ]
    }
   ],
   "source": [
    "\n",
    "\n",
    "def get_real_imaginary_parts(array):\n",
    "    \"\"\"\n",
    "    Description:\n",
    "        This function is to find real and imaginary part\n",
    "    \n",
    "    parameters:\n",
    "        array:ndarray given input\n",
    "    return:\n",
    "        real_part:real part of the array\n",
    "        ima_part:imaginary part of the array\n",
    "\n",
    "    \"\"\"\n",
    "  \n",
    "    real_part = np.real(array)\n",
    "    \n",
    "    imaginary_part = np.imag(array)\n",
    "    \n",
    "    return real_part, imaginary_part\n",
    "\n",
    "def main():\n",
    "    array = np.array([1.00000000+0.j ,0.70710678+0.70710678j])\n",
    "    real_part, imaginary_part = get_real_imaginary_parts(array)\n",
    "    print(f\"Real part: {real_part}\")\n",
    "    print(f\"Imaginary part:{ imaginary_part}\")\n",
    "if __name__==\"__main__\":\n",
    "    main()"
   ]
  },
  {
   "cell_type": "markdown",
   "metadata": {},
   "source": [
    "11. Write a Python program to find the number of elements of an array, length of one\n",
    "array element in bytes and total bytes consumed by the elements.\n"
   ]
  },
  {
   "cell_type": "code",
   "execution_count": 12,
   "metadata": {},
   "outputs": [
    {
     "name": "stdout",
     "output_type": "stream",
     "text": [
      "Number of elements: 3\n",
      "Length of one element in bytes:8\n",
      "Total bytes consumed by the elements:24\n"
     ]
    }
   ],
   "source": [
    "def array_info(array):\n",
    "    \"\"\"\n",
    "    Description:\n",
    "        This function is used to find the size ,itemsize and bytes\n",
    "    \n",
    "    parameters:\n",
    "        array:ndarray the given array\n",
    "    \n",
    "    returns:\n",
    "        num_elemenst:int The numbers of elements present in the array\n",
    "        element_size: int The size of the array\n",
    "        total_bytes: int The total bytes of the array\n",
    "    \"\"\"\n",
    "    num_elements = array.size\n",
    "    element_size = array.itemsize\n",
    "    total_bytes = array.nbytes\n",
    "    return num_elements, element_size, total_bytes\n",
    "\n",
    "def main():\n",
    "    array = np.array([1,2,3])\n",
    "\n",
    "    num_elements, element_size, total_bytes = array_info(array)\n",
    "    print(f\"Number of elements: {num_elements}\")\n",
    "    print(f\"Length of one element in bytes:{ element_size}\")\n",
    "    print(f\"Total bytes consumed by the elements:{ total_bytes}\")\n",
    "  \n",
    "if __name__==\"__main__\":\n",
    "    main()"
   ]
  },
  {
   "cell_type": "markdown",
   "metadata": {},
   "source": [
    "12. Write a Python program to find common values between two arrays"
   ]
  },
  {
   "cell_type": "code",
   "execution_count": 13,
   "metadata": {},
   "outputs": [
    {
     "name": "stdout",
     "output_type": "stream",
     "text": [
      "[10 40]\n"
     ]
    }
   ],
   "source": [
    "def find_common(array1,array2):\n",
    "    \"\"\"\n",
    "    Description:\n",
    "        This function will print the common elements from the both the array\n",
    "    \n",
    "    parameters:\n",
    "        array1:ndarray the array1 elements\n",
    "        array2:ndarray the array2 elements\n",
    "    \n",
    "    returns:\n",
    "        None\"\"\"\n",
    "    result=np.array([],dtype=int)\n",
    "    for i in array1:\n",
    "        \n",
    "        if i in array2:\n",
    "           \n",
    "            result=np.append(result,i)\n",
    "    return result\n",
    "def main():\n",
    "    array1=np.array([0,10,20,40,60])\n",
    "    array2=np.array([10,30,40])\n",
    "    result=find_common(array1,array2)\n",
    "    print(result)\n",
    "if __name__==\"__main__\":\n",
    "    main()"
   ]
  },
  {
   "cell_type": "markdown",
   "metadata": {},
   "source": [
    "13. Write a Python program to find the set difference of two arrays. The set difference\n",
    "will return the sorted, unique values in array1 that are not in array2.\n"
   ]
  },
  {
   "cell_type": "code",
   "execution_count": 14,
   "metadata": {},
   "outputs": [
    {
     "name": "stdout",
     "output_type": "stream",
     "text": [
      "[ 0 20 60 80]\n"
     ]
    }
   ],
   "source": [
    "def set_difference(array1,array2):\n",
    "    \"\"\"\n",
    "    Description:\n",
    "        This function is used find the elements which are present only in the array1\n",
    "    \n",
    "    parameters:\n",
    "        array1:ndarray the elements of the array1\n",
    "        array2:ndarray the elements of the array2\n",
    "    \n",
    "    returns:\n",
    "        result:ndarray\"\"\"\n",
    "    result=np.array([],dtype=int)\n",
    "    for i in array1:\n",
    "        if i not in array2:\n",
    "            result=np.append(result,i)\n",
    "    return result\n",
    "\n",
    "def main():\n",
    "    array1=np.array([0,10,20,40,60,80])\n",
    "    array2=np.array([10,30,40,50,70,90])\n",
    "    result=set_difference(array1,array2)\n",
    "    print(result)\n",
    "if __name__==\"__main__\":\n",
    "    main()"
   ]
  },
  {
   "cell_type": "markdown",
   "metadata": {},
   "source": [
    "14. Write a Python program to find the set exclusive-or of two arrays. Set exclusive-or\n",
    "will return the sorted, unique values that are in only one (not both) of the input array"
   ]
  },
  {
   "cell_type": "code",
   "execution_count": 15,
   "metadata": {},
   "outputs": [
    {
     "name": "stdout",
     "output_type": "stream",
     "text": [
      "[ 0 20 30 50 60 70 80 90]\n"
     ]
    }
   ],
   "source": [
    "def set_difference(array1,array2):\n",
    "    \"\"\"\n",
    "    Description:\n",
    "        This function is used find the elements which are present only in the array1 and array2\n",
    "    \n",
    "    parameters:\n",
    "        array1:ndarray the elements of the array1\n",
    "        array2:ndarray the elements of the array2\n",
    "    \n",
    "    returns:\n",
    "        sorted array \"\"\"\n",
    "    result=np.array([],dtype=int)\n",
    "    for i in array1:\n",
    "        if i not in array2:\n",
    "            result=np.append(result,i)\n",
    "    for i in array2:\n",
    "        if i not in array1:\n",
    "            result=np.append(result,i)\n",
    "    return np.sort(result)\n",
    "def main():\n",
    "    array1=np.array([0,10,20,40,60,80])\n",
    "    array2=np.array([10,30,40,50,70,90])\n",
    "    result=set_difference(array1,array2)\n",
    "    print(result)\n",
    "if __name__==\"__main__\":\n",
    "    main()"
   ]
  },
  {
   "cell_type": "markdown",
   "metadata": {},
   "source": [
    "15. Write a Python program compare two arrays using numpy.\n"
   ]
  },
  {
   "cell_type": "code",
   "execution_count": 16,
   "metadata": {},
   "outputs": [
    {
     "name": "stdout",
     "output_type": "stream",
     "text": [
      "Greater than: [False  True]\n",
      "Greater than or equal to: [False  True]\n",
      "Less than: [ True False]\n",
      "Less than or equal to: [ True False]\n"
     ]
    }
   ],
   "source": [
    "\n",
    "def compare(array1, array2):\n",
    "    \"\"\"\n",
    "    Description:\n",
    "        Compares two numpy arrays and returns a dictionary with the results of various comparisons.\n",
    "    \n",
    "    Parameters:\n",
    "        array1: numpy array, first array to compare.\n",
    "        array2: numpy array, second array to compare.\n",
    "    \n",
    "    Returns:\n",
    "        dict: A dictionary with comparison results for greater than, greater than or equal to,\n",
    "            less than, and less than or equal to.\n",
    "    \"\"\"\n",
    "    return {\n",
    "        \"Greater than\": array1 > array2,\n",
    "        \"Greater than or equal to\": array1 >= array2,\n",
    "        \"Less than\": array1 < array2,\n",
    "        \"Less than or equal to\": array1 <= array2\n",
    "    }\n",
    "\n",
    "def main():\n",
    "    array1 = np.array([1, 5])\n",
    "    array2 = np.array([4, 2])\n",
    "    \n",
    "    comparison_results = compare(array1, array2)\n",
    "    \n",
    "    for key, value in comparison_results.items():\n",
    "        print(f\"{key}: {value}\")\n",
    "\n",
    "if __name__ == \"__main__\":\n",
    "    main()\n"
   ]
  },
  {
   "cell_type": "markdown",
   "metadata": {},
   "source": [
    "16. Write a Python program to save a NumPy array to a text file.\n"
   ]
  },
  {
   "cell_type": "code",
   "execution_count": 17,
   "metadata": {},
   "outputs": [],
   "source": [
    "def save_to_text(filename,array):\n",
    "    \"\"\"\n",
    "    Description:\n",
    "        This function will save the array into the new file \n",
    "    \n",
    "    parameters:\n",
    "        filename: The file name in which the data has to be saved\n",
    "        array:ndarray the elements which has to be stored in the file\n",
    "    return:\n",
    "        None\n",
    "    \"\"\"\n",
    "    np.savetxt(filename,array,fmt=\"%d\",header=\"Array Elements\")\n",
    "def main():\n",
    "    array=np.array([1,2,3],dtype=int)\n",
    "    save_to_text('Array.txt',array)\n",
    "if __name__==\"__main__\":\n",
    "    main()"
   ]
  },
  {
   "cell_type": "markdown",
   "metadata": {},
   "source": [
    "17.Write a Python program to create a contiguous flattened array.\n"
   ]
  },
  {
   "cell_type": "code",
   "execution_count": 18,
   "metadata": {},
   "outputs": [
    {
     "name": "stdout",
     "output_type": "stream",
     "text": [
      "The original array:\n",
      "[[10 20 30]\n",
      " [40 50 60]]\n",
      "The New flattened array:[10 20 30 40 50 60]\n"
     ]
    }
   ],
   "source": [
    "def create_flattened_array(array):\n",
    "    \"\"\"\n",
    "    Description:\n",
    "        This function will convert multi dimension or 2 dimension into one dimension \n",
    "    \n",
    "    parameters:\n",
    "        array:ndarray the elements \n",
    "    \n",
    "    returns:\n",
    "        result:ndarray the one dimensional array\n",
    "    \"\"\"\n",
    "    result=np.ravel(array)\n",
    "    return result\n",
    "\n",
    "def main():\n",
    "    array=np.array([[10,20,30],[40,50,60]])\n",
    "    print(f\"The original array:\\n{array}\")\n",
    "    result=create_flattened_array(array)\n",
    "    print(f\"The New flattened array:{result}\")\n",
    "if __name__==\"__main__\":\n",
    "    main()"
   ]
  },
  {
   "cell_type": "markdown",
   "metadata": {},
   "source": [
    "18.Write a Python program to change the data type of an array.\n"
   ]
  },
  {
   "cell_type": "code",
   "execution_count": 19,
   "metadata": {},
   "outputs": [
    {
     "name": "stdout",
     "output_type": "stream",
     "text": [
      "The original array which is int:\n",
      " [[ 2  4  6]\n",
      " [ 6  8 10]]\n",
      "The New array after changing the datatype to float :\n",
      "[[ 2.  4.  6.]\n",
      " [ 6.  8. 10.]]\n"
     ]
    }
   ],
   "source": [
    "def change_datatype(array):\n",
    "    \"\"\"\n",
    "    Description:\n",
    "        This function is used to change the datatype into float\n",
    "    \n",
    "    parameters:\n",
    "        array:ndarray\n",
    "    \n",
    "    Returns:\n",
    "        result: ndarray \"\"\"\n",
    "    result=np.array(array,dtype=float)\n",
    "    return result\n",
    "\n",
    "def main():\n",
    "    array=np.array([[2,4,6],[6,8,10]],dtype=int)\n",
    "    print(f\"The original array which is int:\\n {array}\")\n",
    "    result=change_datatype(array)\n",
    "    print(f\"The New array after changing the datatype to float :\\n{result}\")\n",
    "if __name__==\"__main__\":\n",
    "    main()\n"
   ]
  },
  {
   "cell_type": "markdown",
   "metadata": {},
   "source": [
    "19. Write a Python program to create a 3-D array with ones on a diagonal and zeros"
   ]
  },
  {
   "cell_type": "code",
   "execution_count": 20,
   "metadata": {},
   "outputs": [
    {
     "name": "stdout",
     "output_type": "stream",
     "text": [
      "[[1 0 0]\n",
      " [0 1 0]\n",
      " [0 0 1]]\n"
     ]
    }
   ],
   "source": [
    "def diagonal_ones(array):\n",
    "    \"\"\"\n",
    "    Description:\n",
    "        This function will display all the diagonal elements as one\n",
    "    \n",
    "    parameters:\n",
    "        array:ndarray the  input\n",
    "    returns:\n",
    "        array:ndarray The diagonal elements are 1\"\"\"\n",
    "    j=0\n",
    "    for  i in range(len(array)):\n",
    "        array[j][j]=1\n",
    "        j+=1\n",
    "    return array\n",
    "\n",
    "def main():\n",
    "\n",
    "    array=np.zeros((3,3),dtype=int)\n",
    "    result=diagonal_ones(array)\n",
    "    print(result)\n",
    "\n",
    "if __name__==\"__main__\":\n",
    "    main()\n"
   ]
  },
  {
   "cell_type": "markdown",
   "metadata": {},
   "source": [
    "20. Write a Python program to create an array which looks like below array."
   ]
  },
  {
   "cell_type": "code",
   "execution_count": 21,
   "metadata": {},
   "outputs": [
    {
     "name": "stdout",
     "output_type": "stream",
     "text": [
      "[[0. 0. 0.]\n",
      " [1. 0. 0.]\n",
      " [1. 1. 0.]\n",
      " [1. 1. 1.]]\n"
     ]
    }
   ],
   "source": [
    "def array_ones(array):\n",
    "    \"\"\"\n",
    "    Description:\n",
    "        This function will make one for each increasing the colums\n",
    "    \n",
    "    parameters:\n",
    "        array:ndarray the  input\n",
    "    \n",
    "    returns:\n",
    "        array :ndarray \"\"\"\n",
    "   \n",
    "    for  i in range(len(array)):\n",
    "        array[i,:i]=1\n",
    "        \n",
    "    return array\n",
    "\n",
    "def main():\n",
    "\n",
    "    array=np.zeros((4,3))\n",
    "    result=array_ones(array)\n",
    "    print(result)\n",
    "\n",
    "\n",
    "if __name__==\"__main__\":\n",
    "    main()\n"
   ]
  },
  {
   "cell_type": "markdown",
   "metadata": {},
   "source": [
    "21. Write a Python program to concatenate two 2-dimensional arrays"
   ]
  },
  {
   "cell_type": "code",
   "execution_count": 22,
   "metadata": {},
   "outputs": [
    {
     "name": "stdout",
     "output_type": "stream",
     "text": [
      "[[ 0  1  3  0  2  4]\n",
      " [ 5  7  9  6  8 10]]\n"
     ]
    }
   ],
   "source": [
    "def add_arrays(array1,array2):\n",
    "    \"\"\"\n",
    "    Description:\n",
    "        This function is to concatenate the two arrays\n",
    "    \n",
    "    parameters:\n",
    "        array1:ndarray The array1 elements\n",
    "        array2:ndarrya The array2 elements\n",
    "    \n",
    "    returns:\n",
    "        array:ndarray The concatenated array\n",
    "    \n",
    "    \"\"\"\n",
    "    #print(np.concatenate((array1,array2),axis=1))\n",
    "    return np.hstack((array1,array2))\n",
    "    \n",
    "def main():\n",
    "   \n",
    "    array1=np.array([[0,1,3,],[5,7,9]])\n",
    "    array2=np.array([[0,2,4],[6,8,10]])\n",
    "    result=add_arrays(array1,array2)\n",
    "    print(result)\n",
    "\n",
    "if __name__==\"__main__\":\n",
    "    main()"
   ]
  },
  {
   "cell_type": "markdown",
   "metadata": {},
   "source": [
    "22. Write a Python program to make an array immutable (read-only)"
   ]
  },
  {
   "cell_type": "code",
   "execution_count": 23,
   "metadata": {},
   "outputs": [
    {
     "name": "stdout",
     "output_type": "stream",
     "text": [
      "[1 2 3]\n"
     ]
    },
    {
     "ename": "ValueError",
     "evalue": "assignment destination is read-only",
     "output_type": "error",
     "traceback": [
      "\u001b[1;31m---------------------------------------------------------------------------\u001b[0m",
      "\u001b[1;31mValueError\u001b[0m                                Traceback (most recent call last)",
      "Cell \u001b[1;32mIn[23], line 19\u001b[0m\n\u001b[0;32m     17\u001b[0m     array[\u001b[38;5;241m1\u001b[39m]\u001b[38;5;241m=\u001b[39m\u001b[38;5;241m1\u001b[39m\n\u001b[0;32m     18\u001b[0m \u001b[38;5;28;01mif\u001b[39;00m \u001b[38;5;18m__name__\u001b[39m\u001b[38;5;241m==\u001b[39m\u001b[38;5;124m\"\u001b[39m\u001b[38;5;124m__main__\u001b[39m\u001b[38;5;124m\"\u001b[39m:\n\u001b[1;32m---> 19\u001b[0m     \u001b[43mmain\u001b[49m\u001b[43m(\u001b[49m\u001b[43m)\u001b[49m\n",
      "Cell \u001b[1;32mIn[23], line 17\u001b[0m, in \u001b[0;36mmain\u001b[1;34m()\u001b[0m\n\u001b[0;32m     15\u001b[0m result\u001b[38;5;241m=\u001b[39marray_immutuable(array)\n\u001b[0;32m     16\u001b[0m \u001b[38;5;28mprint\u001b[39m(result)\n\u001b[1;32m---> 17\u001b[0m \u001b[43marray\u001b[49m\u001b[43m[\u001b[49m\u001b[38;5;241;43m1\u001b[39;49m\u001b[43m]\u001b[49m\u001b[38;5;241m=\u001b[39m\u001b[38;5;241m1\u001b[39m\n",
      "\u001b[1;31mValueError\u001b[0m: assignment destination is read-only"
     ]
    }
   ],
   "source": [
    "def array_immutuable(array):\n",
    "    \"\"\"\n",
    "    Description:\n",
    "        This function is setting the numpy to immutuable\n",
    "    \n",
    "    parameters:\n",
    "        array:ndarray This elements\n",
    "    \n",
    "    Returns:\n",
    "        array:ndarray the array after setting to immutuable \"\"\"\n",
    "    array.flags.writeable=False\n",
    "    return array\n",
    "def main():\n",
    "    array=np.array([1,2,3])\n",
    "    result=array_immutuable(array)\n",
    "    print(result)\n",
    "    array[1]=1\n",
    "if __name__==\"__main__\":\n",
    "    main()"
   ]
  },
  {
   "cell_type": "markdown",
   "metadata": {},
   "source": [
    "23. Write a Python program to create an array of (3, 4) shape, multiply every element\n",
    "value by 3 and display the new array"
   ]
  },
  {
   "cell_type": "code",
   "execution_count": null,
   "metadata": {},
   "outputs": [
    {
     "name": "stdout",
     "output_type": "stream",
     "text": [
      "The original array: \n",
      "[[ 0  1  2]\n",
      " [ 3  4  5]\n",
      " [ 6  7  8]\n",
      " [ 9 10 11]]\n",
      "The new_array:\n",
      " [[ 0  3  6]\n",
      " [ 9 12 15]\n",
      " [18 21 24]\n",
      " [27 30 33]]\n"
     ]
    }
   ],
   "source": [
    "def create_array(original_array):\n",
    "    \"\"\"\n",
    "    Description:\n",
    "        This function is used to create new array and multiplied by 3\n",
    "    parameters:\n",
    "        original_array: ndarray the data\n",
    "    Returns:\n",
    "        new_array:ndarray\"\"\"\n",
    "    \n",
    "    new_array=original_array*3\n",
    "    return new_array\n",
    "def main():\n",
    "    \n",
    "    original_array=np.arange(0,12)\n",
    "    original_array=original_array.reshape(4,3)\n",
    "    print(f\"The original array: \\n{original_array}\")\n",
    "    result=create_array(original_array)\n",
    "    print(f\"The new_array:\\n {result}\")\n",
    "    \n",
    "\n",
    "if __name__==\"__main__\":\n",
    "    main()"
   ]
  },
  {
   "cell_type": "markdown",
   "metadata": {},
   "source": [
    "24.Write a Python program to convert a NumPy array into Python list structure.\n"
   ]
  },
  {
   "cell_type": "code",
   "execution_count": null,
   "metadata": {},
   "outputs": [
    {
     "name": "stdout",
     "output_type": "stream",
     "text": [
      "[[0, 1], [2, 3], [4, 5], [6, 7]]\n"
     ]
    }
   ],
   "source": [
    "def convert_array_list(array):\n",
    "    \"\"\"\n",
    "    Description:\n",
    "        This function is used to convert array to list\n",
    "    \n",
    "    parameters:\n",
    "        array: ndarray its consisting of elements\n",
    "    \n",
    "    returns:\n",
    "        list\"\"\"\n",
    "    result=array.tolist()\n",
    "    return result\n",
    "\n",
    "def main():\n",
    "    array=np.array([[0,1],[2,3],[4,5],[6,7]])\n",
    "    result=convert_array_list(array)\n",
    "    print(result)\n",
    "\n",
    "if __name__==\"__main__\":\n",
    "    main()"
   ]
  },
  {
   "cell_type": "markdown",
   "metadata": {},
   "source": [
    "25. Write a Python program to suppresses the use of scientific notation for small\n",
    "numbers in numpy array"
   ]
  },
  {
   "cell_type": "code",
   "execution_count": null,
   "metadata": {},
   "outputs": [
    {
     "name": "stdout",
     "output_type": "stream",
     "text": [
      "[0.00e+00 1.60e+00 1.20e+03 2.35e-01]\n"
     ]
    }
   ],
   "source": [
    "def format_array():\n",
    "    \"\"\"\n",
    "    Description:\n",
    "        This function formats an array by suppressing scientific notation and limiting the precision to 3 decimal places.\n",
    "    \n",
    "    Parameters:\n",
    "        None\n",
    "    \n",
    "    Returns:\n",
    "        numpy array: A numpy array with formatted values.\n",
    "    \"\"\"\n",
    "    array = [1.60000000e-10, 1.60000000e+00, 1.20000000e+03, 2.35000000e-01]\n",
    "    formatted_array = ['{:.3f}'.format(x) for x in array]\n",
    "    return np.array(formatted_array, dtype=float)\n",
    "\n",
    "def main():\n",
    "    formatted_array = format_array()\n",
    "    print(formatted_array)\n",
    "\n",
    "if __name__ == \"__main__\":\n",
    "    main()\n"
   ]
  },
  {
   "cell_type": "markdown",
   "metadata": {},
   "source": [
    "26. Write a Python program to how to add an extra column to an numpy array.\n"
   ]
  },
  {
   "cell_type": "code",
   "execution_count": null,
   "metadata": {},
   "outputs": [
    {
     "name": "stdout",
     "output_type": "stream",
     "text": [
      "[[1 2 3 7]\n",
      " [4 5 6 8]\n",
      " [7 8 9 1]]\n"
     ]
    }
   ],
   "source": [
    "def add_colum(array,column_array):\n",
    "    \"\"\"\n",
    "    Description:\n",
    "        This function is add a extra column in a existing one\n",
    "    parameters:\n",
    "        array:ndarray The input\n",
    "        column_array:ndarray The column elements should be added  \n",
    "    return:\n",
    "        ndarray:\"\"\"\n",
    "    result=np.column_stack((array,column_array))\n",
    "    return  result\n",
    "\n",
    "def main():\n",
    "    array=np.array([[1,2,3],[4,5,6],[7,8,9]])\n",
    "    new_column=np.array([7,8,1])\n",
    "    result=add_colum(array,new_column)\n",
    "    print(result)\n",
    "\n",
    "if __name__==\"__main__\":\n",
    "    main()"
   ]
  },
  {
   "cell_type": "markdown",
   "metadata": {},
   "source": [
    "27. Write a Python program to remove specific elements in a numpy array."
   ]
  },
  {
   "cell_type": "code",
   "execution_count": null,
   "metadata": {},
   "outputs": [
    {
     "name": "stdout",
     "output_type": "stream",
     "text": [
      "[ 20  30  60  70  80  90 100]\n"
     ]
    }
   ],
   "source": [
    "def remove_elements(array):\n",
    "    \"\"\"\n",
    "    Description:\n",
    "        This function is remove the elemenths based on the index\n",
    "    \n",
    "    parameters:\n",
    "        array:ndarray the input\n",
    "    \n",
    "    returns:\n",
    "        ndarray\"\"\"\n",
    "    delete_index=[0,3,4]\n",
    "    new_result=np.delete(array,delete_index)\n",
    "    return new_result\n",
    "def main():\n",
    "    array=np.array([10, 20, 30, 40, 50, 60, 70, 80, 90, 100])\n",
    "    result=remove_elements(array)\n",
    "    print(result)\n",
    "if __name__==\"__main__\":\n",
    "    main()\n"
   ]
  }
 ],
 "metadata": {
  "kernelspec": {
   "display_name": "Python 3.12.3 64-bit",
   "language": "python",
   "name": "python3"
  },
  "language_info": {
   "codemirror_mode": {
    "name": "ipython",
    "version": 3
   },
   "file_extension": ".py",
   "mimetype": "text/x-python",
   "name": "python",
   "nbconvert_exporter": "python",
   "pygments_lexer": "ipython3",
   "version": "3.12.3"
  },
  "orig_nbformat": 4,
  "vscode": {
   "interpreter": {
    "hash": "3fcbd7240ee8f908d933dc7f71e8c42a1a91163b70ede8dcff5146d4087436c7"
   }
  }
 },
 "nbformat": 4,
 "nbformat_minor": 2
}
