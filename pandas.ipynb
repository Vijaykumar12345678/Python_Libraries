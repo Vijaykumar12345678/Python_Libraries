{
 "cells": [
  {
   "cell_type": "markdown",
   "metadata": {},
   "source": [
    "\"\"\"<br>\n",
    "@Author:Vijay Kumar M N<br>\n",
    "@Date: 2024-08-23<br>\n",
    "@Last Modified by: Vijay Kumar M N<br>\n",
    "@Last Modified: 2024-08-23<br>\n",
    "@Title : python programs for Pandas Library.<br>\n",
    "\"\"\""
   ]
  },
  {
   "cell_type": "code",
   "execution_count": 1,
   "metadata": {},
   "outputs": [],
   "source": [
    "import numpy as np\n",
    "import pandas as pd"
   ]
  },
  {
   "cell_type": "markdown",
   "metadata": {},
   "source": [
    "1. Write a Python program to create and display a one-dimensional array-like object containing an array of data using Pandas module."
   ]
  },
  {
   "cell_type": "code",
   "execution_count": 29,
   "metadata": {},
   "outputs": [
    {
     "name": "stdout",
     "output_type": "stream",
     "text": [
      "0    0\n",
      "1    1\n",
      "2    2\n",
      "3    3\n",
      "4    4\n",
      "dtype: int32\n"
     ]
    }
   ],
   "source": [
    "def create_display(array):\n",
    "    \"\"\"\n",
    "    Description:\n",
    "    This will create and display a one-dimensinoal array like object using pandas\n",
    "    \n",
    "    parameters:\n",
    "    exam_data: dict This is the data that we want to display in the dataframe.\n",
    "    \n",
    "    returns:\n",
    "    series \"\"\"\n",
    "    \n",
    "    one_dimension=pd.Series(array)\n",
    "    return one_dimension\n",
    "\n",
    "def main():\n",
    "   array=np.arange(5)\n",
    "   result=create_display(array)\n",
    "   \n",
    "   print(result)\n",
    "\n",
    "if __name__==\"__main__\":\n",
    "    main()\n",
    "\n"
   ]
  },
  {
   "cell_type": "markdown",
   "metadata": {},
   "source": [
    "2. Write a Python program to convert a Panda module Series to Python list and it's type.\n"
   ]
  },
  {
   "cell_type": "code",
   "execution_count": 3,
   "metadata": {},
   "outputs": [
    {
     "name": "stdout",
     "output_type": "stream",
     "text": [
      "The  original series data is :\n",
      " 0    1\n",
      "1    2\n",
      "2    3\n",
      "3    4\n",
      "4    5\n",
      "5    6\n",
      "dtype: int64\n",
      "The Python list form : [1, 2, 3, 4, 5, 6] and datatype is <class 'list'>\n"
     ]
    }
   ],
   "source": [
    "def convert_list(array):\n",
    "    \"\"\"\n",
    "    Description:\n",
    "    This function will convert the series to python list\n",
    "    parameters:\n",
    "    array :series The data is consisitng of series data strcture.\n",
    "    returns:\n",
    "    None \"\"\"\n",
    "    new_list=list(array)\n",
    "    return  new_list\n",
    "\n",
    "def main():\n",
    "    array=pd.Series([1,2,3,4,5,6])\n",
    "    print(f\"The  original series data is :\\n {array}\")\n",
    "    result=convert_list(array)\n",
    "    print(f\"The Python list form : {result} and datatype is {type(result)}\")\n",
    "\n",
    "if __name__==\"__main__\":\n",
    "    main()"
   ]
  },
  {
   "cell_type": "markdown",
   "metadata": {},
   "source": [
    "3. Write a Python program to add, subtract, multiple and divide two Pandas Series.\n"
   ]
  },
  {
   "cell_type": "code",
   "execution_count": 4,
   "metadata": {},
   "outputs": [
    {
     "name": "stdout",
     "output_type": "stream",
     "text": [
      "The addition of two pandas series:\n",
      "0     3\n",
      "1     7\n",
      "2    11\n",
      "3    15\n",
      "4    19\n",
      "dtype: int64\n",
      "The subtraction of two pandas series:\n",
      "0    1\n",
      "1    1\n",
      "2    1\n",
      "3    1\n",
      "4    1\n",
      "dtype: int64\n",
      "The multiplication of two pandas series:\n",
      "0     2\n",
      "1    12\n",
      "2    30\n",
      "3    56\n",
      "4    90\n",
      "dtype: int64\n",
      "The division of two pandas series:\n",
      "0    2.000000\n",
      "1    1.333333\n",
      "2    1.200000\n",
      "3    1.142857\n",
      "4    1.111111\n",
      "dtype: float64\n"
     ]
    }
   ],
   "source": [
    "\n",
    "def operations(data1, data2):\n",
    "    \"\"\"\n",
    "    Description:\n",
    "    This function performs basic mathematical operations like addition, subtraction, multiplication, and division.\n",
    "    \n",
    "    Parameters:\n",
    "    data1: Series consisting of elements.\n",
    "    data2: Series consisting of elements.\n",
    "    \n",
    "    Returns:\n",
    "    tuple: A tuple containing the results of addition, subtraction, multiplication, and division.\n",
    "    \"\"\"\n",
    "    addition = data1.add(data2)\n",
    "    subtraction = data1.sub(data2)\n",
    "    multiplication = data1.mul(data2)\n",
    "    division = data1.div(data2)\n",
    "    return addition, subtraction, multiplication, division\n",
    "\n",
    "def main():\n",
    "    data1 = pd.Series([2, 4, 6, 8, 10])\n",
    "    data2 = pd.Series([1, 3, 5, 7, 9])\n",
    "    addition, subtraction, multiplication, division = operations(data1, data2)\n",
    "\n",
    "    print(f\"The addition of two pandas series:\\n{addition}\")\n",
    "    print(f\"The subtraction of two pandas series:\\n{subtraction}\")\n",
    "    print(f\"The multiplication of two pandas series:\\n{multiplication}\")\n",
    "    print(f\"The division of two pandas series:\\n{division}\")\n",
    "\n",
    "if __name__ == \"__main__\":\n",
    "    main()\n"
   ]
  },
  {
   "cell_type": "markdown",
   "metadata": {},
   "source": [
    "4. Write a Python program to get the powers of an array values element-wise.\n",
    "Note: First array elements raised to powers from second array"
   ]
  },
  {
   "cell_type": "code",
   "execution_count": 5,
   "metadata": {},
   "outputs": [
    {
     "name": "stdout",
     "output_type": "stream",
     "text": [
      "The original series :\n",
      " 0    0\n",
      "1    1\n",
      "2    2\n",
      "3    3\n",
      "4    4\n",
      "5    5\n",
      "6    6\n",
      "dtype: int64\n",
      "The new series :\n",
      "0      0\n",
      "1      1\n",
      "2      8\n",
      "3     27\n",
      "4     64\n",
      "5    125\n",
      "6    216\n",
      "dtype: int64\n"
     ]
    }
   ],
   "source": [
    "def powers(array):\n",
    "    \"\"\"\n",
    "    Description:\n",
    "    This function will cube all the elements in the series\n",
    "    parameters:\n",
    "    array:series its consisting the elements\n",
    "    returns:\n",
    "    series \"\"\"\n",
    "    series=pd.Series([pow(x,3) for x in array])\n",
    "    return series\n",
    "\n",
    "def main():\n",
    "    array=pd.Series([0,1,2,3,4,5,6])\n",
    "    print(f\"The original series :\\n {array}\")\n",
    "    result=powers(array)\n",
    "    print(f\"The new series :\\n{result}\")\n",
    "\n",
    "if __name__==\"__main__\":\n",
    "    main()"
   ]
  },
  {
   "cell_type": "markdown",
   "metadata": {},
   "source": [
    "5. Write a Python program to create and display a DataFrame from a specified dictionary\n",
    "data which has the index labels.\n"
   ]
  },
  {
   "cell_type": "code",
   "execution_count": 6,
   "metadata": {},
   "outputs": [
    {
     "name": "stdout",
     "output_type": "stream",
     "text": [
      "        name  score  attempts qualify\n",
      "a  Anastasia   12.5         1     yes\n",
      "b       Dima    9.0         3      no\n",
      "c  Katherine   16.5         2     yes\n",
      "d      James    NaN         3      no\n",
      "e      Emily    9.0         2      no\n",
      "f    Michael   20.0         3     yes\n",
      "g    Matthew   14.5         1     yes\n",
      "h      Laura    NaN         1      no\n",
      "i      Kevin    8.0         2      no\n",
      "j      Jonas   19.0         1     yes\n"
     ]
    }
   ],
   "source": [
    "def create_dataframe(exam_data):\n",
    "    \"\"\"\n",
    "    Description:\n",
    "    This will create a dataframe and display the dataframe\n",
    "    \n",
    "    parameters:\n",
    "    exam_data: dict This is the data that we want to display in the dataframe.\n",
    "    \n",
    "    Returns:\n",
    "    DataFrame\n",
    "    \"\"\"\n",
    "  \n",
    "    \n",
    "    df=pd.DataFrame(exam_data,index=['a','b','c','d','e','f','g','h','i','j'])\n",
    "    return df\n",
    "\n",
    "def main():\n",
    "    exam_data = {'name': ['Anastasia', 'Dima', 'Katherine', 'James', 'Emily', 'Michael',\n",
    "    'Matthew', 'Laura', 'Kevin', 'Jonas'],\n",
    "    'score': [12.5, 9, 16.5, np.nan, 9, 20, 14.5, np.nan, 8, 19],\n",
    "    'attempts': [1, 3, 2, 3, 2, 3, 1, 1, 2, 1],\n",
    "    'qualify': ['yes', 'no', 'yes', 'no', 'no', 'yes', 'yes', 'no', 'no', 'yes']}\n",
    "    \n",
    "    result=create_dataframe(exam_data)\n",
    "    print(result)\n",
    "\n",
    "if __name__==\"__main__\":\n",
    "    main()"
   ]
  },
  {
   "cell_type": "markdown",
   "metadata": {},
   "source": [
    "6. Write a Python program to display a summary of the basic information about a\n",
    "specified Data Frame and its data.\n",
    "Sample Python dictionary data and list labels:"
   ]
  },
  {
   "cell_type": "code",
   "execution_count": 7,
   "metadata": {},
   "outputs": [
    {
     "name": "stdout",
     "output_type": "stream",
     "text": [
      "<class 'pandas.core.frame.DataFrame'>\n",
      "Index: 10 entries, a to j\n",
      "Data columns (total 4 columns):\n",
      " #   Column    Non-Null Count  Dtype  \n",
      "---  ------    --------------  -----  \n",
      " 0   name      10 non-null     object \n",
      " 1   score     8 non-null      float64\n",
      " 2   attempts  10 non-null     int64  \n",
      " 3   qualify   10 non-null     object \n",
      "dtypes: float64(1), int64(1), object(2)\n",
      "memory usage: 400.0+ bytes\n",
      "None            score   attempts\n",
      "count   8.000000  10.000000\n",
      "mean   13.562500   1.900000\n",
      "std     4.693746   0.875595\n",
      "min     8.000000   1.000000\n",
      "25%     9.000000   1.000000\n",
      "50%    13.500000   2.000000\n",
      "75%    17.125000   2.750000\n",
      "max    20.000000   3.000000\n"
     ]
    }
   ],
   "source": [
    "def create_dataframe(exam_data):\n",
    "    \"\"\"\n",
    "    Description:\n",
    "    This will create a dataframe and display the dataframe and display about information and describe.\n",
    "    \n",
    "    parameters:\n",
    "    exam_data: dict This is the data that we want to display in the dataframe.\n",
    "    \n",
    "    Returns:\n",
    "    About dataframe information and  describe.\n",
    "\n",
    "    \"\"\"\n",
    "    \n",
    "    \n",
    "    df=pd.DataFrame(exam_data,index=['a','b','c','d','e','f','g','h','i','j'])\n",
    "    return df.info(),df.describe()\n",
    "\n",
    "def main():\n",
    "    exam_data = {'name': ['Anastasia', 'Dima', 'Katherine', 'James', 'Emily', 'Michael',\n",
    "    'Matthew', 'Laura', 'Kevin', 'Jonas'],\n",
    "    'score': [12.5, 9, 16.5, np.nan, 9, 20, 14.5, np.nan, 8, 19],\n",
    "    'attempts': [1, 3, 2, 3, 2, 3, 1, 1, 2, 1],\n",
    "    'qualify': ['yes', 'no', 'yes', 'no', 'no', 'yes', 'yes', 'no', 'no', 'yes']}\n",
    "    info,describe=create_dataframe(exam_data)\n",
    "    print(info,describe)\n",
    "\n",
    "if __name__==\"__main__\":\n",
    "    main()"
   ]
  },
  {
   "cell_type": "markdown",
   "metadata": {},
   "source": [
    "7. Write a Python program to get the first 3 rows of a given DataFrame.\n",
    "Sample Python dictionary data and list labels:"
   ]
  },
  {
   "cell_type": "code",
   "execution_count": 8,
   "metadata": {},
   "outputs": [
    {
     "name": "stdout",
     "output_type": "stream",
     "text": [
      "        name  score  attempts qualify\n",
      "a  Anastasia   12.5         1     yes\n",
      "b       Dima    9.0         3      no\n",
      "c  Katherine   16.5         2     yes\n"
     ]
    }
   ],
   "source": [
    "def display_rows(exam_data):\n",
    "    \"\"\"\n",
    "    Description:\n",
    "    This will create a dataframe and display the first three dataframes\n",
    "    \n",
    "    parameters:\n",
    "    exam_data: dict This is the data that we want to display in the dataframe.    \n",
    "    \n",
    "    Returns:\n",
    "    DataFrame first Three rows\n",
    "    \"\"\"\n",
    "    \n",
    "    df=pd.DataFrame(exam_data,index=['a','b','c','d','e','f','g','h','i','j'])\n",
    "    return df.head(3)\n",
    "\n",
    "def main():\n",
    "    exam_data = {'name': ['Anastasia', 'Dima', 'Katherine', 'James', 'Emily', 'Michael',\n",
    "    'Matthew', 'Laura', 'Kevin', 'Jonas'],\n",
    "    'score': [12.5, 9, 16.5, np.nan, 9, 20, 14.5, np.nan, 8, 19],\n",
    "    'attempts': [1, 3, 2, 3, 2, 3, 1, 1, 2, 1],\n",
    "    'qualify': ['yes', 'no', 'yes', 'no', 'no', 'yes', 'yes', 'no', 'no', 'yes']}\n",
    "    \n",
    "    result=display_rows(exam_data)\n",
    "    print(result)\n",
    "\n",
    "if __name__==\"__main__\":\n",
    "    main()"
   ]
  },
  {
   "cell_type": "markdown",
   "metadata": {},
   "source": [
    "8. Write a Python program to select the 'name' and 'score' columns from the following\n",
    "DataFrame."
   ]
  },
  {
   "cell_type": "code",
   "execution_count": 9,
   "metadata": {},
   "outputs": [
    {
     "name": "stdout",
     "output_type": "stream",
     "text": [
      "        name  score\n",
      "a  Anastasia   12.5\n",
      "b       Dima    9.0\n",
      "c  Katherine   16.5\n",
      "d      James    NaN\n",
      "e      Emily    9.0\n",
      "f    Michael   20.0\n",
      "g    Matthew   14.5\n",
      "h      Laura    NaN\n",
      "i      Kevin    8.0\n",
      "j      Jonas   19.0\n"
     ]
    }
   ],
   "source": [
    "def display_rows(exam_data):\n",
    "    \"\"\"\n",
    "    Description:\n",
    "    This will create a dataframe and display the only specific colums from the dataframes\n",
    "    \n",
    "    parameters:\n",
    "    exam_data: dict This is the data that we want to display in the dataframe.\n",
    "    \n",
    "    Returns:\n",
    "    DataFrame dolumns \"\"\"\n",
    "    \n",
    "    \n",
    "    df=pd.DataFrame(exam_data,index=['a','b','c','d','e','f','g','h','i','j'])\n",
    "    return df[['name','score']]\n",
    "\n",
    "def main():\n",
    "    exam_data = {'name': ['Anastasia', 'Dima', 'Katherine', 'James', 'Emily', 'Michael',\n",
    "    'Matthew', 'Laura', 'Kevin', 'Jonas'],\n",
    "    'score': [12.5, 9, 16.5, np.nan, 9, 20, 14.5, np.nan, 8, 19],\n",
    "    'attempts': [1, 3, 2, 3, 2, 3, 1, 1, 2, 1],\n",
    "    'qualify': ['yes', 'no', 'yes', 'no', 'no', 'yes', 'yes', 'no', 'no', 'yes']}\n",
    "    result=display_rows(exam_data)\n",
    "    print(result)\n",
    "\n",
    "if __name__==\"__main__\":\n",
    "    main()"
   ]
  },
  {
   "cell_type": "markdown",
   "metadata": {},
   "source": [
    "9.Write a Python program to select the specified columns and rows from a given data\n",
    "frame.\n",
    "Select 'name' and 'score' columns in rows 1, 3, 5, 6 from the following data frame.\n"
   ]
  },
  {
   "cell_type": "code",
   "execution_count": 10,
   "metadata": {},
   "outputs": [
    {
     "name": "stdout",
     "output_type": "stream",
     "text": [
      "      name  score\n",
      "1     Dima    9.0\n",
      "3    James    NaN\n",
      "5  Michael   20.0\n",
      "6  Matthew   14.5\n"
     ]
    }
   ],
   "source": [
    "def display_rows(exam_data):\n",
    "    \"\"\"\n",
    "    Description:\n",
    "    This will create a dataframe and display the only specific colums from the dataframes\n",
    "    \n",
    "    parameters:\n",
    "    exam_data: dict This is the data that we want to display in the dataframe.\n",
    "    \n",
    "    Returns:\n",
    "    DataFrane where specified index with particular columns\"\"\"\n",
    "\n",
    "    exam_data = {'name': ['Anastasia', 'Dima', 'Katherine', 'James', 'Emily', 'Michael',\n",
    "    'Matthew', 'Laura', 'Kevin', 'Jonas'],\n",
    "    'score': [12.5, 9, 16.5, np.nan, 9, 20, 14.5, np.nan, 8, 19],\n",
    "    'attempts': [1, 3, 2, 3, 2, 3, 1, 1, 2, 1],\n",
    "    'qualify': ['yes', 'no', 'yes', 'no', 'no', 'yes', 'yes', 'no', 'no', 'yes']}\n",
    "    \n",
    "    df=pd.DataFrame(exam_data)\n",
    "    #print(df[['name','score']])\n",
    "    return df.loc[[1,3,5,6],['name','score']]\n",
    "\n",
    "def main():\n",
    "    \n",
    "    exam_data = {'name': ['Anastasia', 'Dima', 'Katherine', 'James', 'Emily', 'Michael',\n",
    "    'Matthew', 'Laura', 'Kevin', 'Jonas'],\n",
    "    'score': [12.5, 9, 16.5, np.nan, 9, 20, 14.5, np.nan, 8, 19],\n",
    "    'attempts': [1, 3, 2, 3, 2, 3, 1, 1, 2, 1],\n",
    "    'qualify': ['yes', 'no', 'yes', 'no', 'no', 'yes', 'yes', 'no', 'no', 'yes']}\n",
    "    \n",
    "    result=display_rows(exam_data)\n",
    "    print(result)\n",
    "\n",
    "if __name__==\"__main__\":\n",
    "    main()"
   ]
  },
  {
   "cell_type": "markdown",
   "metadata": {},
   "source": [
    "10. Write a Python program to select the rows where the number of attempts in the\n",
    "examination is greater than 2"
   ]
  },
  {
   "cell_type": "code",
   "execution_count": 11,
   "metadata": {},
   "outputs": [
    {
     "name": "stdout",
     "output_type": "stream",
     "text": [
      "      name  score  attempts qualify\n",
      "1     Dima    9.0         3      no\n",
      "3    James    NaN         3      no\n",
      "5  Michael   20.0         3     yes\n"
     ]
    }
   ],
   "source": [
    "def display_rows(exam_data):\n",
    "    \"\"\"\n",
    "    Description:\n",
    "    This will create a dataframe and display the all the dataframes whose have attemted the exam more than 2.\n",
    "    \n",
    "    parameters:\n",
    "    exam_data: dict This is the data that we want to display in the dataframe.    \n",
    "   \n",
    "    Returns:\n",
    "    DataFrame where attempts of the students more than 2\n",
    "    \"\"\"\n",
    "\n",
    "    \n",
    "    df=pd.DataFrame(exam_data)\n",
    "    #print(df[['name','score']])\n",
    "    return df.loc[df['attempts']>2]\n",
    "\n",
    "def main():\n",
    "    exam_data = {'name': ['Anastasia', 'Dima', 'Katherine', 'James', 'Emily', 'Michael',\n",
    "    'Matthew', 'Laura', 'Kevin', 'Jonas'],\n",
    "    'score': [12.5, 9, 16.5, np.nan, 9, 20, 14.5, np.nan, 8, 19],\n",
    "    'attempts': [1, 3, 2, 3, 2, 3, 1, 1, 2, 1],\n",
    "    'qualify': ['yes', 'no', 'yes', 'no', 'no', 'yes', 'yes', 'no', 'no', 'yes']}\n",
    "    \n",
    "    result=display_rows(exam_data)\n",
    "    print(result)\n",
    "\n",
    "if __name__==\"__main__\":\n",
    "    main()"
   ]
  },
  {
   "cell_type": "markdown",
   "metadata": {},
   "source": [
    "11. Write a Python program to count the number of rows and columns of a DataFrame.\n",
    "Sample data:"
   ]
  },
  {
   "cell_type": "code",
   "execution_count": 12,
   "metadata": {},
   "outputs": [
    {
     "name": "stdout",
     "output_type": "stream",
     "text": [
      "The number columns:  4\n",
      "The number rows:  10\n"
     ]
    }
   ],
   "source": [
    "def display_rows(exam_data):\n",
    "    \"\"\"\n",
    "    Description:\n",
    "    This will create a dataframe and display the number of rows and columns from the dataframes\n",
    "    \n",
    "    parameters:\n",
    "    exam_data: dict This is the data that we want to display in the dataframe.\n",
    "    \n",
    "    Returns:\n",
    "    shape of the dataframe with number of columns and rows.\"\"\"\n",
    "\n",
    "    \n",
    "    df=pd.DataFrame(exam_data,index=['a','b','c','d','e','f','g','h','i','j'])\n",
    "    return df.shape[0],df.shape[1]\n",
    "\n",
    "def main():\n",
    "    exam_data = {'name': ['Anastasia', 'Dima', 'Katherine', 'James', 'Emily', 'Michael',\n",
    "    'Matthew', 'Laura', 'Kevin', 'Jonas'],\n",
    "    'score': [12.5, 9, 16.5, np.nan, 9, 20, 14.5, np.nan, 8, 19],\n",
    "    'attempts': [1, 3, 2, 3, 2, 3, 1, 1, 2, 1],\n",
    "    'qualify': ['yes', 'no', 'yes', 'no', 'no', 'yes', 'yes', 'no', 'no', 'yes']}\n",
    "    column,row=display_rows(exam_data)\n",
    "    print(f\"The number columns:  {row}\")\n",
    "    print(f\"The number rows:  {column}\")\n",
    "\n",
    "if __name__==\"__main__\":\n",
    "    main()"
   ]
  },
  {
   "cell_type": "markdown",
   "metadata": {},
   "source": [
    "11.Write a Python program to select the rows where the score is missing, i.e. is NaN"
   ]
  },
  {
   "cell_type": "code",
   "execution_count": 13,
   "metadata": {},
   "outputs": [
    {
     "name": "stdout",
     "output_type": "stream",
     "text": [
      "    name  score  attempts qualify\n",
      "d  James    NaN         3      no\n",
      "h  Laura    NaN         1      no\n"
     ]
    }
   ],
   "source": [
    "def display_rows(exam_data):\n",
    "    \"\"\"\n",
    "    Description:\n",
    "    This will create a dataframe and display the null values in the score column dataframes\n",
    "   \n",
    "    parameters:\n",
    "     exam_data: dict This is the data that we want to display in the dataframe.\n",
    "   \n",
    "    Returns:\n",
    "    Dataframe where the score is null\"\"\"\n",
    "    \n",
    "    \n",
    "    df=pd.DataFrame(exam_data,index=['a','b','c','d','e','f','g','h','i','j'])\n",
    "    #null_mask = df.isnull().any(axis=1)\n",
    "    #null_rows = df[null_mask]   \n",
    "    #print(null_rows)\n",
    "    return df.loc[df['score'].isnull()]\n",
    "\n",
    "def main():\n",
    "\n",
    "    exam_data = {'name': ['Anastasia', 'Dima', 'Katherine', 'James', 'Emily', 'Michael',\n",
    "    'Matthew', 'Laura', 'Kevin', 'Jonas'],\n",
    "    'score': [12.5, 9, 16.5, np.nan, 9, 20, 14.5, np.nan, 8, 19],\n",
    "    'attempts': [1, 3, 2, 3, 2, 3, 1, 1, 2, 1],\n",
    "    'qualify': ['yes', 'no', 'yes', 'no', 'no', 'yes', 'yes', 'no', 'no', 'yes']}\n",
    "    result=display_rows(exam_data)\n",
    "    print(result)\n",
    "if __name__==\"__main__\":\n",
    "    main()"
   ]
  },
  {
   "cell_type": "markdown",
   "metadata": {},
   "source": [
    "13. Write a Python program to select the rows where number of attempts in the\n",
    "examination is less than 2 and score greater than 15.\n"
   ]
  },
  {
   "cell_type": "code",
   "execution_count": 14,
   "metadata": {},
   "outputs": [
    {
     "name": "stdout",
     "output_type": "stream",
     "text": [
      "    name  score  attempts qualify\n",
      "j  Jonas   19.0         1     yes\n"
     ]
    }
   ],
   "source": [
    "def display_rows(exam_data):\n",
    "    \"\"\"\n",
    "    Description:\n",
    "    This will create a dataframe and display the name who score is greater than 15 and attempts less than 2 column dataframes\n",
    "   \n",
    "    parameters:\n",
    "    exam_data: dict This is the data that we want to display in the dataframe.\n",
    "    \n",
    "    Returns:\n",
    "    DataFrame : This will return the dataframe with the name who score is greater than 15 and attempts less than\n",
    "    \"\"\"\n",
    "    \n",
    "    \n",
    "    df=pd.DataFrame(exam_data,index=['a','b','c','d','e','f','g','h','i','j'])\n",
    "   \n",
    "    return df[(df.score>15) & (df.attempts<2)]\n",
    "\n",
    "def main():\n",
    "\n",
    "    exam_data = {'name': ['Anastasia', 'Dima', 'Katherine', 'James', 'Emily', 'Michael',\n",
    "    'Matthew', 'Laura', 'Kevin', 'Jonas'],\n",
    "    'score': [12.5, 9, 16.5, np.nan, 9, 20, 14.5, np.nan, 8, 19],\n",
    "    'attempts': [1, 3, 2, 3, 2, 3, 1, 1, 2, 1],\n",
    "    'qualify': ['yes', 'no', 'yes', 'no', 'no', 'yes', 'yes', 'no', 'no', 'yes']}\n",
    "    result=display_rows(exam_data)\n",
    "    print(result)\n",
    "\n",
    "if __name__==\"__main__\":\n",
    "    main()"
   ]
  },
  {
   "cell_type": "markdown",
   "metadata": {},
   "source": [
    "14. Write a Python program to change the score in row 'd' to 11.5.\n"
   ]
  },
  {
   "cell_type": "code",
   "execution_count": 15,
   "metadata": {},
   "outputs": [
    {
     "name": "stdout",
     "output_type": "stream",
     "text": [
      "        name  score  attempts qualify\n",
      "a  Anastasia   12.5         1     yes\n",
      "b       Dima    9.0         3      no\n",
      "c  Katherine   16.5         2     yes\n",
      "d      James   11.5         3      no\n",
      "e      Emily    9.0         2      no\n",
      "f    Michael   20.0         3     yes\n",
      "g    Matthew   14.5         1     yes\n",
      "h      Laura    NaN         1      no\n",
      "i      Kevin    8.0         2      no\n",
      "j      Jonas   19.0         1     yes\n"
     ]
    }
   ],
   "source": [
    "def display_rows(exam_data):\n",
    "    \"\"\"\n",
    "    Description:\n",
    "    This will create a dataframe and display the row d the score value to 11.5 in the dataframes\n",
    "    \n",
    "    parameters:\n",
    "    exam_data: dict This is the data that we want to display in the dataframe.\n",
    "    Returns:\n",
    "    DataFrame:change the score value to 11.5 in the dataframe.\n",
    "\n",
    "    \"\"\"\n",
    "   \n",
    "    \n",
    "    df=pd.DataFrame(exam_data,index=['a','b','c','d','e','f','g','h','i','j'])\n",
    "   \n",
    "    df.at['d','score']=11.5\n",
    "    return df\n",
    "\n",
    "def main():\n",
    "    exam_data = {'name': ['Anastasia', 'Dima', 'Katherine', 'James', 'Emily', 'Michael',\n",
    "    'Matthew', 'Laura', 'Kevin', 'Jonas'],\n",
    "    'score': [12.5, 9, 16.5, np.nan, 9, 20, 14.5, np.nan, 8, 19],\n",
    "    'attempts': [1, 3, 2, 3, 2, 3, 1, 1, 2, 1],\n",
    "    'qualify': ['yes', 'no', 'yes', 'no', 'no', 'yes', 'yes', 'no', 'no', 'yes']}\n",
    "    result=display_rows(exam_data)\n",
    "    print(result)\n",
    "\n",
    "if __name__==\"__main__\":\n",
    "    main()"
   ]
  },
  {
   "cell_type": "markdown",
   "metadata": {},
   "source": [
    "15. Write a Python program to calculate the sum of the examination attempts by the\n",
    "students.\n"
   ]
  },
  {
   "cell_type": "code",
   "execution_count": 16,
   "metadata": {},
   "outputs": [
    {
     "name": "stdout",
     "output_type": "stream",
     "text": [
      "the sum of the examination attempts by the students is: 19\n"
     ]
    }
   ],
   "source": [
    "def display_rows(exam_data):\n",
    "    \"\"\"\n",
    "    Description:\n",
    "    This will create a dataframe and display the sum of examination is attemts by the student in the dataframe.\n",
    "    \n",
    "    parameters:\n",
    "    exam_data: dict This is the data that we want to display in the dataframe.\n",
    "\n",
    "    Returns:\n",
    "    sum:int\"\"\"\n",
    "    \n",
    "    \n",
    "    df=pd.DataFrame(exam_data,index=['a','b','c','d','e','f','g','h','i','j'])\n",
    "   \n",
    "    sum=df['attempts'].sum()\n",
    "    return sum\n",
    "    \n",
    "def main():\n",
    "    exam_data = {'name': ['Anastasia', 'Dima', 'Katherine', 'James', 'Emily', 'Michael',\n",
    "    'Matthew', 'Laura', 'Kevin', 'Jonas'],\n",
    "    'score': [12.5, 9, 16.5, np.nan, 9, 20, 14.5, np.nan, 8, 19],\n",
    "    'attempts': [1, 3, 2, 3, 2, 3, 1, 1, 2, 1],\n",
    "    'qualify': ['yes', 'no', 'yes', 'no', 'no', 'yes', 'yes', 'no', 'no', 'yes']}\n",
    "    sum=display_rows(exam_data)\n",
    "    print(f\"the sum of the examination attempts by the students is: {sum}\")\n",
    "if __name__==\"__main__\":\n",
    "    main()"
   ]
  },
  {
   "cell_type": "markdown",
   "metadata": {},
   "source": [
    "16. Write a Python program to calculate the mean score for each different student in\n",
    "DataFrame"
   ]
  },
  {
   "cell_type": "code",
   "execution_count": 17,
   "metadata": {},
   "outputs": [
    {
     "name": "stdout",
     "output_type": "stream",
     "text": [
      "The mean of each student is  13.5625\n"
     ]
    }
   ],
   "source": [
    "def display_rows(exam_data):\n",
    "    \"\"\"\n",
    "    Description:\n",
    "    This will create a dataframe and display the mean of each student.\n",
    "    parameters:\n",
    "    exam_data: dict This is the data that we want to display in the dataframe.\n",
    "\n",
    "    Returns:\n",
    "    mean\"\"\"\n",
    "    \n",
    "    df=pd.DataFrame(exam_data,index=['a','b','c','d','e','f','g','h','i','j'])\n",
    "    df.groupby('name')\n",
    "    mean=df['score'].mean()\n",
    "    return mean\n",
    "\n",
    "    \n",
    "def main():\n",
    "\n",
    "    exam_data = {'name': ['Anastasia', 'Dima', 'Katherine', 'James', 'Emily', 'Michael',\n",
    "    'Matthew', 'Laura', 'Kevin', 'Jonas'],\n",
    "    'score': [12.5, 9, 16.5, np.nan, 9, 20, 14.5, np.nan, 8, 19],\n",
    "    'attempts': [1, 3, 2, 3, 2, 3, 1, 1, 2, 1],\n",
    "    'qualify': ['yes', 'no', 'yes', 'no', 'no', 'yes', 'yes', 'no', 'no', 'yes']}\n",
    "    \n",
    "    mean=display_rows(exam_data)\n",
    "    print(f\"The mean of each student is  {mean}\")\n",
    "\n",
    "if __name__==\"__main__\":\n",
    "    main()"
   ]
  },
  {
   "cell_type": "markdown",
   "metadata": {},
   "source": [
    "17. Write a Python program to append a new row 'k' to data frame with given values for\n",
    "each column. Now delete the new row and return the original DataFrame.\n"
   ]
  },
  {
   "cell_type": "code",
   "execution_count": 18,
   "metadata": {},
   "outputs": [
    {
     "name": "stdout",
     "output_type": "stream",
     "text": [
      "The add the new row to the dataframe :\n",
      "         name  score  attempts qualify\n",
      "a  Anastasia   12.5       1.0     yes\n",
      "b       Dima    9.0       3.0      no\n",
      "c  Katherine   16.5       2.0     yes\n",
      "d      James    NaN       3.0      no\n",
      "e      Emily    9.0       2.0      no\n",
      "f    Michael   20.0       3.0     yes\n",
      "g    Matthew   14.5       1.0     yes\n",
      "h      Laura    NaN       1.0      no\n",
      "i      Kevin    8.0       2.0      no\n",
      "j      Jonas   19.0       1.0     yes\n",
      "K     suresh   15.5       1.0     yes\n",
      "After deleting the row :\n",
      "         name  score  attempts qualify\n",
      "a  Anastasia   12.5       1.0     yes\n",
      "b       Dima    9.0       3.0      no\n",
      "c  Katherine   16.5       2.0     yes\n",
      "d      James    NaN       3.0      no\n",
      "e      Emily    9.0       2.0      no\n",
      "f    Michael   20.0       3.0     yes\n",
      "g    Matthew   14.5       1.0     yes\n",
      "h      Laura    NaN       1.0      no\n",
      "i      Kevin    8.0       2.0      no\n",
      "j      Jonas   19.0       1.0     yes\n"
     ]
    }
   ],
   "source": [
    "\n",
    "def display_rows(exam_data):\n",
    "    \"\"\"\n",
    "    Description:\n",
    "    This will create a dataframe and display and add a new row to the dataframe and delete that new row\n",
    "    parameters:\n",
    "    None\n",
    "    Returns:\n",
    "    None\"\"\"\n",
    "   \n",
    "    df=pd.DataFrame(exam_data,index=['a','b','c','d','e','f','g','h','i','j'])\n",
    "    df.loc['K',:] = ['suresh',15.5,1,'yes']\n",
    "    print(f\"The add the new row to the dataframe :\\n {df}\") \n",
    "    df.drop(['K'],inplace=True)\n",
    "    print(f\"After deleting the row :\\n {df}\")\n",
    "\n",
    "    \n",
    "def main():\n",
    "    exam_data = {'name': ['Anastasia', 'Dima', 'Katherine', 'James', 'Emily', 'Michael',\n",
    "    'Matthew', 'Laura', 'Kevin', 'Jonas'],\n",
    "    'score': [12.5, 9, 16.5, np.nan, 9, 20, 14.5, np.nan, 8, 19],\n",
    "    'attempts': [1, 3, 2, 3, 2, 3, 1, 1, 2, 1],\n",
    "    'qualify': ['yes', 'no', 'yes', 'no', 'no', 'yes', 'yes', 'no', 'no', 'yes']}\n",
    "    \n",
    "    display_rows(exam_data)\n",
    "\n",
    "if __name__==\"__main__\":\n",
    "    main()"
   ]
  },
  {
   "cell_type": "markdown",
   "metadata": {},
   "source": [
    "18. Write a Python program to sort the DataFrame first by 'name' in descending order,\n",
    "then by 'score' in ascending order.\n"
   ]
  },
  {
   "cell_type": "code",
   "execution_count": 19,
   "metadata": {},
   "outputs": [
    {
     "name": "stdout",
     "output_type": "stream",
     "text": [
      "        name  score  attempts qualify\n",
      "f    Michael   20.0         3     yes\n",
      "g    Matthew   14.5         1     yes\n",
      "h      Laura    NaN         1      no\n",
      "i      Kevin    8.0         2      no\n",
      "c  Katherine   16.5         2     yes\n",
      "j      Jonas   19.0         1     yes\n",
      "d      James    NaN         3      no\n",
      "e      Emily    9.0         2      no\n",
      "b       Dima    9.0         3      no\n",
      "a  Anastasia   12.5         1     yes\n"
     ]
    }
   ],
   "source": [
    "\n",
    "def display_rows(exam_data):\n",
    "    \"\"\"\n",
    "    Description:\n",
    "    This will create a dataframe and display the names is descending order and score in ascending order\n",
    "    \n",
    "    parameters:\n",
    "    exam_data: dict This is the data that we want to display in the dataframe.\n",
    "\n",
    "    Returns:\n",
    "    sorted: The new Dataframe which after sorting\n",
    "    \"\"\"\n",
    "   \n",
    "    df=pd.DataFrame(exam_data,index=['a','b','c','d','e','f','g','h','i','j'])\n",
    "    sorted=df.sort_values(by=['name','score'],ascending=[False,True])\n",
    "    return sorted\n",
    "\n",
    "    \n",
    "def main():\n",
    "    exam_data = {'name': ['Anastasia', 'Dima', 'Katherine', 'James', 'Emily', 'Michael',\n",
    "    'Matthew', 'Laura', 'Kevin', 'Jonas'],\n",
    "    'score': [12.5, 9, 16.5, np.nan, 9, 20, 14.5, np.nan, 8, 19],\n",
    "    'attempts': [1, 3, 2, 3, 2, 3, 1, 1, 2, 1],\n",
    "    'qualify': ['yes', 'no', 'yes', 'no', 'no', 'yes', 'yes', 'no', 'no', 'yes']}\n",
    "\n",
    "    sorted=display_rows(exam_data)\n",
    "    print(sorted)\n",
    "    \n",
    "if __name__==\"__main__\":\n",
    "    main()"
   ]
  },
  {
   "cell_type": "markdown",
   "metadata": {},
   "source": [
    "19. Write a Python program to replace the 'qualify' column contains the values 'yes' and\n",
    "'no' with True and False"
   ]
  },
  {
   "cell_type": "code",
   "execution_count": 20,
   "metadata": {},
   "outputs": [
    {
     "name": "stdout",
     "output_type": "stream",
     "text": [
      "        name  score  attempts qualify\n",
      "a  Anastasia   12.5         1    True\n",
      "b       Dima    9.0         3   False\n",
      "c  Katherine   16.5         2    True\n",
      "d      James    NaN         3   False\n",
      "e      Emily    9.0         2   False\n",
      "f    Michael   20.0         3    True\n",
      "g    Matthew   14.5         1    True\n",
      "h      Laura    NaN         1   False\n",
      "i      Kevin    8.0         2   False\n",
      "j      Jonas   19.0         1    True\n"
     ]
    }
   ],
   "source": [
    "\n",
    "def display_rows(exam_data):\n",
    "    \"\"\"\n",
    "    Description:\n",
    "    This will create a dataframe and display the qualify column values yes to true and  no to false.\n",
    "\n",
    "    parameters:\n",
    "    exam_data: dict This is the data that we want to display in the dataframe.\n",
    "\n",
    "    Returns:\n",
    "    dataframe: \"\"\"\n",
    "    \n",
    "    df=pd.DataFrame(exam_data,index=['a','b','c','d','e','f','g','h','i','j'])\n",
    "    df.loc[df['qualify']=='yes','qualify']=True\n",
    "    df.loc[df['qualify']=='no','qualify']=False\n",
    "    return df\n",
    "    \n",
    "    \n",
    "def main():\n",
    "    exam_data = {'name': ['Anastasia', 'Dima', 'Katherine', 'James', 'Emily', 'Michael',\n",
    "    'Matthew', 'Laura', 'Kevin', 'Jonas'],\n",
    "    'score': [12.5, 9, 16.5, np.nan, 9, 20, 14.5, np.nan, 8, 19],\n",
    "    'attempts': [1, 3, 2, 3, 2, 3, 1, 1, 2, 1],\n",
    "    'qualify': ['yes', 'no', 'yes', 'no', 'no', 'yes', 'yes', 'no', 'no', 'yes']}\n",
    "\n",
    "    df=display_rows(exam_data)\n",
    "    print(df)\n",
    "if __name__==\"__main__\":\n",
    "    main()"
   ]
  },
  {
   "cell_type": "markdown",
   "metadata": {},
   "source": [
    "20. Write a Python program to delete the 'attempts' column from the DataFrame"
   ]
  },
  {
   "cell_type": "code",
   "execution_count": 21,
   "metadata": {},
   "outputs": [
    {
     "name": "stdout",
     "output_type": "stream",
     "text": [
      "        name  score  attempts\n",
      "a  Anastasia   12.5         1\n",
      "b       Dima    9.0         3\n",
      "c  Katherine   16.5         2\n",
      "d      James    NaN         3\n",
      "e      Emily    9.0         2\n",
      "f    Michael   20.0         3\n",
      "g    Matthew   14.5         1\n",
      "h      Laura    NaN         1\n",
      "i      Kevin    8.0         2\n",
      "j      Jonas   19.0         1\n"
     ]
    }
   ],
   "source": [
    "\n",
    "def display_rows(exam_data):\n",
    "    \"\"\"\n",
    "    Description:\n",
    "    This will create a dataframe and delete the attempts column in the dataframe.\n",
    "\n",
    "    parameters:\n",
    "    exam_data: dict This is the data that we want to display in the dataframe.\n",
    "\n",
    "    Returns:\n",
    "    news: new dataframe after deleting the column qualify\"\"\"\n",
    "   \n",
    "\n",
    "    df=pd.DataFrame(exam_data,index=['a','b','c','d','e','f','g','h','i','j'])\n",
    "    news=df.drop(['qualify'],axis=1)\n",
    "    return news\n",
    "    \n",
    "    \n",
    "    \n",
    "def main():\n",
    "    exam_data = {'name': ['Anastasia', 'Dima', 'Katherine', 'James', 'Emily', 'Michael',\n",
    "    'Matthew', 'Laura', 'Kevin', 'Jonas'],\n",
    "    'score': [12.5, 9, 16.5, np.nan, 9, 20, 14.5, np.nan, 8, 19],\n",
    "    'attempts': [1, 3, 2, 3, 2, 3, 1, 1, 2, 1],\n",
    "    'qualify': ['yes', 'no', 'yes', 'no', 'no', 'yes', 'yes', 'no', 'no', 'yes']}\n",
    "    result=display_rows(exam_data)\n",
    "    print(result)\n",
    "    \n",
    "if __name__==\"__main__\":\n",
    "    main()"
   ]
  },
  {
   "cell_type": "markdown",
   "metadata": {},
   "source": [
    "21. Write a Python program to insert a new column in existing DataFrame"
   ]
  },
  {
   "cell_type": "code",
   "execution_count": 22,
   "metadata": {},
   "outputs": [
    {
     "name": "stdout",
     "output_type": "stream",
     "text": [
      "Before adding new column: \n",
      "         name  score  attempts qualify\n",
      "a  Anastasia   12.5         1     yes\n",
      "b       Dima    9.0         3      no\n",
      "c  Katherine   16.5         2     yes\n",
      "d      James    NaN         3      no\n",
      "e      Emily    9.0         2      no\n",
      "f    Michael   20.0         3     yes\n",
      "g    Matthew   14.5         1     yes\n",
      "h      Laura    NaN         1      no\n",
      "i      Kevin    8.0         2      no\n",
      "j      Jonas   19.0         1     yes\n",
      "After adding the new columns :\n",
      "         name  score  attempts qualify  result\n",
      "a  Anastasia   12.5         1     yes       1\n",
      "b       Dima    9.0         3      no       2\n",
      "c  Katherine   16.5         2     yes       3\n",
      "d      James    NaN         3      no       4\n",
      "e      Emily    9.0         2      no       5\n",
      "f    Michael   20.0         3     yes       6\n",
      "g    Matthew   14.5         1     yes       7\n",
      "h      Laura    NaN         1      no       8\n",
      "i      Kevin    8.0         2      no       9\n",
      "j      Jonas   19.0         1     yes      10\n"
     ]
    }
   ],
   "source": [
    "\n",
    "def display_rows(exam_data):\n",
    "    \"\"\"\n",
    "    Description:\n",
    "    This will create a dataframe and adding a new column in the dataframe.\n",
    "\n",
    "    parameters:\n",
    "    exam_data: dict This is the data that we want to display in the dataframe.\n",
    "\n",
    "    Returns:\n",
    "    None\"\"\"\n",
    "  \n",
    "\n",
    "    df=pd.DataFrame(exam_data,index=['a','b','c','d','e','f','g','h','i','j'])\n",
    "    print(f\"Before adding new column: \\n {df}\")\n",
    "    df.loc[:,'result']=[1,2,3,4,5,6,7,8,9,10]\n",
    "    print(f\"After adding the new columns :\\n {df}\")\n",
    "    \n",
    "    \n",
    "    \n",
    "def main():\n",
    "    exam_data = {'name': ['Anastasia', 'Dima', 'Katherine', 'James', 'Emily', 'Michael',\n",
    "    'Matthew', 'Laura', 'Kevin', 'Jonas'],\n",
    "    'score': [12.5, 9, 16.5, np.nan, 9, 20, 14.5, np.nan, 8, 19],\n",
    "    'attempts': [1, 3, 2, 3, 2, 3, 1, 1, 2, 1],\n",
    "    'qualify': ['yes', 'no', 'yes', 'no', 'no', 'yes', 'yes', 'no', 'no', 'yes']}\n",
    "    display_rows(exam_data)\n",
    "if __name__==\"__main__\":\n",
    "    main()"
   ]
  },
  {
   "cell_type": "markdown",
   "metadata": {},
   "source": [
    "22. Write a Python program to iterate over rows in a DataFrame"
   ]
  },
  {
   "cell_type": "code",
   "execution_count": 23,
   "metadata": {},
   "outputs": [
    {
     "name": "stdout",
     "output_type": "stream",
     "text": [
      "index :a , values:{'name': 'Anastasia', 'score': 12.5, 'attempts': 1, 'qualify': 'yes'}\n",
      "index :b , values:{'name': 'Dima', 'score': 9.0, 'attempts': 3, 'qualify': 'no'}\n",
      "index :c , values:{'name': 'Katherine', 'score': 16.5, 'attempts': 2, 'qualify': 'yes'}\n",
      "index :d , values:{'name': 'James', 'score': nan, 'attempts': 3, 'qualify': 'no'}\n",
      "index :e , values:{'name': 'Emily', 'score': 9.0, 'attempts': 2, 'qualify': 'no'}\n",
      "index :f , values:{'name': 'Michael', 'score': 20.0, 'attempts': 3, 'qualify': 'yes'}\n",
      "index :g , values:{'name': 'Matthew', 'score': 14.5, 'attempts': 1, 'qualify': 'yes'}\n",
      "index :h , values:{'name': 'Laura', 'score': nan, 'attempts': 1, 'qualify': 'no'}\n",
      "index :i , values:{'name': 'Kevin', 'score': 8.0, 'attempts': 2, 'qualify': 'no'}\n",
      "index :j , values:{'name': 'Jonas', 'score': 19.0, 'attempts': 1, 'qualify': 'yes'}\n"
     ]
    }
   ],
   "source": [
    "\n",
    "def display_rows(exam_data):\n",
    "    \"\"\"\n",
    "    Description:\n",
    "    This will create a dataframe iterate over a dataframe.\n",
    "\n",
    "    parameters:\n",
    "    exam_data: dict This is the data that we want to display in the dataframe.\n",
    "\n",
    "    Returns:\n",
    "    dataframe\"\"\"\n",
    " \n",
    "\n",
    "    df=pd.DataFrame(exam_data,index=['a','b','c','d','e','f','g','h','i','j'])\n",
    "    return df    \n",
    "    \n",
    "def main():\n",
    "    exam_data = {'name': ['Anastasia', 'Dima', 'Katherine', 'James', 'Emily', 'Michael',\n",
    "    'Matthew', 'Laura', 'Kevin', 'Jonas'],\n",
    "    'score': [12.5, 9, 16.5, np.nan, 9, 20, 14.5, np.nan, 8, 19],\n",
    "    'attempts': [1, 3, 2, 3, 2, 3, 1, 1, 2, 1],\n",
    "    'qualify': ['yes', 'no', 'yes', 'no', 'no', 'yes', 'yes', 'no', 'no', 'yes']}\n",
    "    result=display_rows(exam_data)\n",
    "    for index,row in result.iterrows():\n",
    "        print(f\"index :{index} , values:{row.to_dict()}\")\n",
    "        \n",
    "if __name__==\"__main__\":\n",
    "    main()"
   ]
  },
  {
   "cell_type": "markdown",
   "metadata": {},
   "source": [
    "23. Write a Python program to get list from DataFrame column headers."
   ]
  },
  {
   "cell_type": "code",
   "execution_count": 24,
   "metadata": {},
   "outputs": [
    {
     "name": "stdout",
     "output_type": "stream",
     "text": [
      "['name', 'score', 'attempts', 'qualify']\n"
     ]
    }
   ],
   "source": [
    "\n",
    "def display_rows(exam_data):\n",
    "    \"\"\"\n",
    "    Description:\n",
    "    This will create a dataframe and display the names of the columns.\n",
    "\n",
    "    parameters:\n",
    "    None\n",
    "    Returns:\n",
    "    list: names of the columns\"\"\"\n",
    "    \n",
    "\n",
    "    df=pd.DataFrame(exam_data,index=['a','b','c','d','e','f','g','h','i','j'])\n",
    "\n",
    "    \n",
    "    return df.columns.tolist()\n",
    "    \n",
    "    \n",
    "def main():\n",
    "    exam_data = {'name': ['Anastasia', 'Dima', 'Katherine', 'James', 'Emily', 'Michael',\n",
    "    'Matthew', 'Laura', 'Kevin', 'Jonas'],\n",
    "    'score': [12.5, 9, 16.5, np.nan, 9, 20, 14.5, np.nan, 8, 19],\n",
    "    'attempts': [1, 3, 2, 3, 2, 3, 1, 1, 2, 1],\n",
    "    'qualify': ['yes', 'no', 'yes', 'no', 'no', 'yes', 'yes', 'no', 'no', 'yes']}\n",
    "    result=display_rows(exam_data)\n",
    "    print(result)\n",
    "if __name__==\"__main__\":\n",
    "    main()"
   ]
  }
 ],
 "metadata": {
  "kernelspec": {
   "display_name": "Python 3.10.5 64-bit",
   "language": "python",
   "name": "python3"
  },
  "language_info": {
   "codemirror_mode": {
    "name": "ipython",
    "version": 3
   },
   "file_extension": ".py",
   "mimetype": "text/x-python",
   "name": "python",
   "nbconvert_exporter": "python",
   "pygments_lexer": "ipython3",
   "version": "3.10.5"
  },
  "orig_nbformat": 4,
  "vscode": {
   "interpreter": {
    "hash": "a42ccb73e7d9bfdf27e036f1d2b8b681e55fc0743cc5586bc2474d4a60f4b886"
   }
  }
 },
 "nbformat": 4,
 "nbformat_minor": 2
}
